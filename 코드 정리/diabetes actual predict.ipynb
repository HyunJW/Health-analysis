{
 "cells": [
  {
   "cell_type": "code",
   "execution_count": 1,
   "metadata": {},
   "outputs": [],
   "source": [
    "import numpy as np\n",
    "import random\n",
    "from joblib import load\n",
    "from keras.models import load_model\n",
    "scaler = load('C:/Health Analysis/scaler.model')\n",
    "model = load_model('C:/Health Analysis/neo_keras.h5')"
   ]
  },
  {
   "cell_type": "code",
   "execution_count": 2,
   "metadata": {},
   "outputs": [],
   "source": [
    "age = random.randint(18, 100)\n",
    "sex = random.choice(['male', 'female'])\n",
    "chol = 100 + 400 * random.random()\n",
    "chol_check = random.choice(['yes', 'no'])\n",
    "BMI = 15 + 15 * random.random()\n",
    "smoke = random.choice(['yes', 'no'])\n",
    "HDA = random.choice([0, 1])\n",
    "PA = random.choice(['yes', 'no'])\n",
    "fruit = random.choice(['yes', 'no'])\n",
    "veggies = random.choice(['yes', 'no'])\n",
    "HAC = random.choice(['yes', 'no'])\n",
    "GH = random.choice([1, 2, 3, 4, 5])\n",
    "MH = random.randint(0, 30)\n",
    "PH = random.randint(0, 30)\n",
    "DW = random.choice(['yes', 'no'])\n",
    "stroke = random.choice([0, 1])\n",
    "HBP = random.choice([0, 1])"
   ]
  },
  {
   "cell_type": "code",
   "execution_count": 3,
   "metadata": {},
   "outputs": [],
   "source": [
    "for i in range(1, 14):\n",
    "    globals()[f'age{i}'] = 0\n",
    "if age < 25:\n",
    "    age1 = 1\n",
    "elif age < 30:\n",
    "    age2 = 1\n",
    "elif age < 35:\n",
    "    age3 = 1\n",
    "elif age < 40:\n",
    "    age4 = 1\n",
    "elif age < 45:\n",
    "    age5 = 1\n",
    "elif age < 50:\n",
    "    age6 = 1\n",
    "elif age < 55:\n",
    "    age7 = 1\n",
    "elif age < 60:\n",
    "    age8 = 1\n",
    "elif age < 65:\n",
    "    age9 = 1\n",
    "elif age < 70:\n",
    "    age10 = 1\n",
    "elif age < 76:\n",
    "    age11 = 1\n",
    "elif age < 80:\n",
    "    age12 = 1\n",
    "else:\n",
    "    age13 = 1"
   ]
  },
  {
   "cell_type": "code",
   "execution_count": 4,
   "metadata": {},
   "outputs": [],
   "source": [
    "if sex == 'male':\n",
    "    female = 0\n",
    "    male = 1\n",
    "else:\n",
    "    female = 1\n",
    "    male = 0\n",
    "if chol >= 240:\n",
    "    chol0 = 0\n",
    "    chol1 = 1\n",
    "else:\n",
    "    chol0 = 1\n",
    "    chol1 = 0\n",
    "if np.isnan(chol):\n",
    "    chol_check == 'no'\n",
    "if chol_check == 'yes':\n",
    "    CC0 = 0\n",
    "    CC1 = 1\n",
    "else:\n",
    "    CC0 = 1\n",
    "    CC1 = 0\n",
    "if smoke == 'yes':\n",
    "    smoke0 = 0\n",
    "    smoke1 = 1\n",
    "else:\n",
    "    smoke0 = 1\n",
    "    smoke1 = 0\n",
    "if HDA == 1:\n",
    "    HDA0 = 0\n",
    "    HDA1 = 1\n",
    "else:\n",
    "    HDA0 = 1\n",
    "    HDA1 = 0\n",
    "if PA == 'yes':\n",
    "    PA0 = 0\n",
    "    PA1 = 1\n",
    "else:\n",
    "    PA0 = 1\n",
    "    PA1 = 0\n",
    "if fruit == 'yes':\n",
    "    fruit0 = 0\n",
    "    fruit1 = 1\n",
    "else:\n",
    "    fruit0 = 1\n",
    "    fruit1 = 0\n",
    "if veggies == 'yes':\n",
    "    veggie0 = 0\n",
    "    veggie1 = 1\n",
    "else:\n",
    "    veggie0 = 1\n",
    "    veggie1 = 0\n",
    "if HAC == 'yes':\n",
    "    drink0 = 0\n",
    "    drink1 = 1\n",
    "else:\n",
    "    drink0 = 1\n",
    "    drink1 = 0"
   ]
  },
  {
   "cell_type": "code",
   "execution_count": 5,
   "metadata": {},
   "outputs": [],
   "source": [
    "for i in range(1, 6):\n",
    "    globals()[f'health{i}'] = 0\n",
    "    if GH == i:\n",
    "        globals()[f'health{i}'] = 1"
   ]
  },
  {
   "cell_type": "code",
   "execution_count": 6,
   "metadata": {},
   "outputs": [],
   "source": [
    "if DW == 1:\n",
    "    HW0 = 0\n",
    "    HW1 = 1\n",
    "else:\n",
    "    HW0 = 1\n",
    "    HW1 = 0\n",
    "if stroke == 1:\n",
    "    stroke0 = 0\n",
    "    stroke1 = 1\n",
    "else:\n",
    "    stroke0 = 1\n",
    "    stroke1 = 0\n",
    "if HBP == 1:\n",
    "    HBP0 = 0\n",
    "    HBP1 = 1\n",
    "else:\n",
    "    HBP0 = 1\n",
    "    HBP1 = 0"
   ]
  },
  {
   "cell_type": "code",
   "execution_count": 7,
   "metadata": {},
   "outputs": [],
   "source": [
    "variables = [[BMI, MH, GH,\n",
    "             age1, age2, age3, age4, age5, age6, age7, age6, age9, age10, age11, age12, age13,\n",
    "             female, male,\n",
    "             chol0, chol1,\n",
    "             CC0, CC1,\n",
    "             smoke0, smoke1,\n",
    "             HDA0, HDA1,\n",
    "             PA0, PA1,\n",
    "             fruit0, fruit1,\n",
    "             veggie0, veggie1,\n",
    "             drink0, drink1,\n",
    "             health1, health2, health3, health4, health5,\n",
    "             HW0, HW1,\n",
    "             stroke0, stroke1,\n",
    "             HBP0, HBP1]]"
   ]
  },
  {
   "cell_type": "code",
   "execution_count": 8,
   "metadata": {},
   "outputs": [
    {
     "name": "stderr",
     "output_type": "stream",
     "text": [
      "c:\\Anaconda3\\lib\\site-packages\\sklearn\\base.py:450: UserWarning: X does not have valid feature names, but StandardScaler was fitted with feature names\n",
      "  warnings.warn(\n"
     ]
    },
    {
     "name": "stdout",
     "output_type": "stream",
     "text": [
      "1/1 [==============================] - 2s 2s/step\n",
      "[[0.05521978]]\n"
     ]
    },
    {
     "data": {
      "text/plain": [
       "[0]"
      ]
     },
     "execution_count": 8,
     "metadata": {},
     "output_type": "execute_result"
    }
   ],
   "source": [
    "input = scaler.transform(variables)\n",
    "prob = model.predict(input)\n",
    "print(prob)\n",
    "predict = [1 if prob >= 0.5 else 0]\n",
    "predict"
   ]
  },
  {
   "cell_type": "code",
   "execution_count": 9,
   "metadata": {},
   "outputs": [],
   "source": [
    "if predict[0] == 1:\n",
    "    result = '당뇨'\n",
    "else:\n",
    "    result = '정상'"
   ]
  },
  {
   "cell_type": "code",
   "execution_count": 10,
   "metadata": {},
   "outputs": [
    {
     "data": {
      "text/plain": [
       "'정상'"
      ]
     },
     "execution_count": 10,
     "metadata": {},
     "output_type": "execute_result"
    }
   ],
   "source": [
    "result"
   ]
  },
  {
   "cell_type": "code",
   "execution_count": null,
   "metadata": {},
   "outputs": [],
   "source": []
  }
 ],
 "metadata": {
  "kernelspec": {
   "display_name": "base",
   "language": "python",
   "name": "python3"
  },
  "language_info": {
   "codemirror_mode": {
    "name": "ipython",
    "version": 3
   },
   "file_extension": ".py",
   "mimetype": "text/x-python",
   "name": "python",
   "nbconvert_exporter": "python",
   "pygments_lexer": "ipython3",
   "version": "3.9.13"
  },
  "orig_nbformat": 4
 },
 "nbformat": 4,
 "nbformat_minor": 2
}
